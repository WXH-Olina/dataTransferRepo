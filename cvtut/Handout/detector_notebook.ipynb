{
 "cells": [
  {
   "cell_type": "markdown",
   "metadata": {},
   "source": [
    "# Object Detection with Conventional Algorithms\n",
    "## Import libraries\n",
    "Install numpy, yaml, matplotlib\n",
    "\n",
    "**!** starts a command"
   ]
  },
  {
   "cell_type": "code",
   "execution_count": null,
   "metadata": {},
   "outputs": [],
   "source": [
    "!pip install numpy pyyaml matplotlib"
   ]
  },
  {
   "cell_type": "code",
   "execution_count": null,
   "metadata": {},
   "outputs": [],
   "source": [
    "import cv2 as cv\n",
    "import numpy as np\n",
    "from typing import List, Tuple\n",
    "import yaml\n",
    "import math\n",
    "from utils import *"
   ]
  },
  {
   "cell_type": "markdown",
   "metadata": {},
   "source": [
    "## Define the Armor class"
   ]
  },
  {
   "cell_type": "code",
   "execution_count": null,
   "metadata": {},
   "outputs": [],
   "source": [
    "class Armor:\n",
    "    def __init__(self, left: RotatedRect, right: RotatedRect):\n",
    "        left = RotatedRect(left.center, (left.size[0], left.size[1] * 2), left.angle)\n",
    "        right = RotatedRect(right.center, (right.size[0], right.size[1] * 2), right.angle)\n",
    "        left_points = left.points()\n",
    "        right_points = right.points()\n",
    "        self.points = [left_points[0], left_points[1], right_points[2], right_points[3]]\n",
    "        self.id = -1 # Unused in this class\n",
    "\n",
    "    # Prompt: Complete the area function by calculating the area from the four vertices in self.points in class Armor\n",
    "    # Hint: Use the shoelace formula to calculate the area of a polygon\n",
    "    # https://en.wikipedia.org/wiki/Shoelace_formula\n",
    "    def area(self):\n",
    "        pass\n",
    "    \n",
    "    # Prompt: Write the center function to get the center of mass\n",
    "    def center(self):\n",
    "        pass\n",
    "\n",
    "    def __str__(self):\n",
    "        return \"Armor: \" + str(self.points)\n",
    "    \n",
    "    def __lt__(self, other):\n",
    "        return self.area() < other.area()"
   ]
  },
  {
   "cell_type": "markdown",
   "metadata": {},
   "source": [
    "## The Detector class\n",
    "It contains many parameters saved in a yaml file."
   ]
  },
  {
   "cell_type": "code",
   "execution_count": null,
   "metadata": {},
   "outputs": [],
   "source": [
    "class Detector:\n",
    "    # Prompt: Load these parameters from parameters.yaml and load each param into a variable like: armor_max_aspect_ratio = params['armor_max_aspect_ratio']\n",
    "    def __init__(self, yaml_path: str):\n",
    "        pass"
   ]
  },
  {
   "cell_type": "markdown",
   "metadata": {},
   "source": [
    "### Overall program structure\n",
    "- Separate the colors you wish to detect\n",
    "- Binarize the image with a bright threshold\n",
    "- Get the contours of the image\n",
    "- Filter the contours, Remove what you don't want, Get the desired light indicators\n",
    "- Match the light indicators to get armor"
   ]
  },
  {
   "cell_type": "code",
   "execution_count": null,
   "metadata": {},
   "outputs": [],
   "source": [
    "# Prompt: Get a grayscale image from the difference between the red channel and the blue channel using OpenCV\n",
    "# Hint: cv.subtract\n",
    "# https://docs.opencv.org/4.x/d2/de8/group__core__array.html#ga10ac1bfbef7d6d2f1c8b4f7d7cde61b0\n",
    "@add_to_class(Detector)\n",
    "def _separateColors(self, img: np.ndarray, color: str) -> np.ndarray:\n",
    "    if color == 'r':\n",
    "        gray_img = ## Your code here!!!\n",
    "    else:\n",
    "        gray_img = ##  Your code here!!!\n",
    "\n",
    "    return gray_img"
   ]
  },
  {
   "cell_type": "code",
   "execution_count": null,
   "metadata": {},
   "outputs": [],
   "source": [
    "detector = Detector(\"parameters.yaml\")\n",
    "image = cv.imread(\"pictures/APC_0037.jpg\")\n",
    "gray_image = detector._separateColors(image, \"r\")\n",
    "showImageOnNotebook(gray_image)"
   ]
  },
  {
   "cell_type": "code",
   "execution_count": null,
   "metadata": {},
   "outputs": [],
   "source": [
    "# Prompt: Binarize the image using the brightness_threshold parameter and dilate the bright parts\n",
    "# Ellipse: Change it so that the kernel is an ellipse\n",
    "# Hint: cv.threshold, cv.dilate\n",
    "@add_to_class(Detector)\n",
    "def _binarization(self, gray_img: np.ndarray, brightness_threshold: int) -> np.ndarray:\n",
    "    # Your code here!!!\n",
    "    pass\n",
    "    return dilated_img"
   ]
  },
  {
   "cell_type": "code",
   "execution_count": null,
   "metadata": {},
   "outputs": [],
   "source": [
    "bin_image = detector._binarization(gray_image, 100)\n",
    "showImageOnNotebook(bin_image)"
   ]
  },
  {
   "cell_type": "code",
   "execution_count": null,
   "metadata": {},
   "outputs": [],
   "source": [
    "# Prompt: Find the contours in all the bright parts in the dilated image using OpenCV.\n",
    "# Additional: Only show the added/modified code\n",
    "# hint: cv.findContours \n",
    "@add_to_class(Detector)\n",
    "def _getContours(self, img: np.ndarray) -> List[List[np.ndarray]]:\n",
    "    # Your code here!!!\n",
    "    pass\n",
    "    return light_contours"
   ]
  },
  {
   "cell_type": "code",
   "execution_count": null,
   "metadata": {},
   "outputs": [],
   "source": [
    "contours = detector._getContours(bin_image)\n",
    "contour_image = drawAllContours(image, contours)\n",
    "showImageOnNotebook(contour_image)"
   ]
  },
  {
   "cell_type": "code",
   "execution_count": null,
   "metadata": {},
   "outputs": [],
   "source": [
    "@add_to_class(Detector)\n",
    "def _filterContours(self, light_contours: List[List[np.ndarray]]) -> Tuple[List[List[np.ndarray]], List[RotatedRect]]:\n",
    "    remaining_contours = []\n",
    "    light_info = []\n",
    "    for contour in light_contours:\n",
    "        pass\n",
    "    return remaining_contours, light_info"
   ]
  },
  {
   "cell_type": "code",
   "execution_count": null,
   "metadata": {},
   "outputs": [],
   "source": [
    "@add_to_class(Detector)\n",
    "def _adjustRect(self, rec: RotatedRect) -> RotatedRect:\n",
    "    center, size, angle = rec.center, rec.size, rec.angle\n",
    "    width, height = size\n",
    "\n",
    "    while angle >= 90.0:\n",
    "        angle -= 180.0\n",
    "    while angle < -90.0:\n",
    "        angle += 180.0\n",
    "\n",
    "    if angle >= 45.0:\n",
    "        width, height = height, width\n",
    "        angle -= 90.0\n",
    "    elif angle < -45.0:\n",
    "        width, height = height, width\n",
    "        angle += 90.0\n",
    "\n",
    "    size = (width, height)\n",
    "\n",
    "    return RotatedRect(center, size, angle)\n"
   ]
  },
  {
   "cell_type": "code",
   "execution_count": null,
   "metadata": {},
   "outputs": [],
   "source": [
    "contours, light_info = detector._filterContours(contours)\n",
    "filtered_contour_image = drawAllContours(image, contours)\n",
    "showImageOnNotebook(filtered_contour_image)"
   ]
  },
  {
   "cell_type": "code",
   "execution_count": null,
   "metadata": {},
   "outputs": [],
   "source": [
    "@add_to_class(Detector)\n",
    "def _matchLightIndicators(self, light_info: List[RotatedRect]) -> List[Armor]:\n",
    "    armors = []\n",
    "\n",
    "    # Prompt: Sort a list of RotatedRect objects by the x (first) coordinate of the center\n",
    "    \n",
    "    \n",
    "    for i in range(len(light_info)):\n",
    "        left = light_info[i]\n",
    "        for j in range(i + 1, len(light_info)):\n",
    "            right = light_info[j]\n",
    "\n",
    "            pass\n",
    "\n",
    "    return armors"
   ]
  },
  {
   "cell_type": "code",
   "execution_count": null,
   "metadata": {},
   "outputs": [],
   "source": [
    "armors = detector._matchLightIndicators(light_info)\n",
    "annotated_image = drawArmors(image, armors)\n",
    "showImageOnNotebook(annotated_image)"
   ]
  },
  {
   "cell_type": "code",
   "execution_count": null,
   "metadata": {},
   "outputs": [],
   "source": [
    "@add_to_class(Detector)\n",
    "def analyze(self, img: np.ndarray, color: str) -> List[Armor]:\n",
    "    img = self._separateColors(img, color)\n",
    "    img = self._binarization(img, self.brightness_threshold)\n",
    "    contours = self._getContours(img)\n",
    "    contours, light_info = self._filterContours(contours)\n",
    "    armors = self._matchLightIndicators(light_info)\n",
    "\n",
    "    return armors"
   ]
  },
  {
   "cell_type": "code",
   "execution_count": null,
   "metadata": {},
   "outputs": [],
   "source": [
    "detector = Detector(\"parameters.yaml\")\n",
    "image = cv.imread(\"pictures/APC_0037.jpg\")\n",
    "armors = detector.analyze(image, \"r\")\n",
    "print('Found', len(armors), 'armors.')\n",
    "if len(armors) > 0:\n",
    "    armors.sort()\n",
    "    print('The first armor is', armors[0])\n",
    "annotated_image = drawArmors(image, armors)\n",
    "showImageOnNotebook(annotated_image)"
   ]
  }
 ],
 "metadata": {
  "kernelspec": {
   "display_name": "Python 3",
   "language": "python",
   "name": "python3"
  },
  "language_info": {
   "codemirror_mode": {
    "name": "ipython",
    "version": 3
   },
   "file_extension": ".py",
   "mimetype": "text/x-python",
   "name": "python",
   "nbconvert_exporter": "python",
   "pygments_lexer": "ipython3",
   "version": "3.11.5"
  }
 },
 "nbformat": 4,
 "nbformat_minor": 2
}
